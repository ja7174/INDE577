{
 "cells": [
  {
   "cell_type": "markdown",
   "metadata": {},
   "source": [
    "## Loading the Data"
   ]
  },
  {
   "cell_type": "code",
   "execution_count": 128,
   "metadata": {},
   "outputs": [],
   "source": [
    "#!pip install tensorflow\n",
    "from tensorflow import keras \n",
    "import numpy as np\n",
    "import matplotlib.pyplot as plt\n",
    "import pandas as pd\n",
    "\n",
    "# Use the keras module to import the necessary data \n",
    "from sklearn.model_selection import train_test_split"
   ]
  },
  {
   "cell_type": "code",
   "execution_count": 129,
   "metadata": {},
   "outputs": [],
   "source": [
    "#  Preparing and cleaning the data\n",
    "df = pd.read_csv(\"palmer_penguins.csv\")\n",
    "df = df.dropna()\n",
    "df = df.drop('Unnamed: 0', 1)"
   ]
  },
  {
   "cell_type": "markdown",
   "metadata": {},
   "source": [
    "Given a set of feature vector of penguin characteris, can we now construct a model that will be able to guess what kind of penguin (Adelie, Gentoo or Chinstrap) just from the feature vector. Let's try to test it out.\n",
    "\n",
    "Before we do that we have to prepare our feature vector and our target vector."
   ]
  },
  {
   "cell_type": "markdown",
   "metadata": {},
   "source": [
    "## Preparing Target Vector"
   ]
  },
  {
   "cell_type": "code",
   "execution_count": 130,
   "metadata": {},
   "outputs": [],
   "source": [
    "cls = {\"Adelie\": 0,\n",
    "       \"Chinstrap\": 1,\n",
    "       \"Gentoo\": 2,}\n",
    "df[\"species_index\"] = df[\"species\"].apply(lambda x: cls[x])\n",
    "y_total = df['species_index'].values\n",
    "\n",
    "onehot_train_y = []\n",
    "for y in y_total:   \n",
    "    temp_vec = np.zeros((3, 1))\n",
    "    temp_vec[y][0] = 1.0\n",
    "    onehot_train_y.append(temp_vec)"
   ]
  },
  {
   "cell_type": "markdown",
   "metadata": {},
   "source": [
    "## Preparing Feature Vector"
   ]
  },
  {
   "cell_type": "code",
   "execution_count": 131,
   "metadata": {},
   "outputs": [
    {
     "name": "stdout",
     "output_type": "stream",
     "text": [
      "(333, 8, 1)\n"
     ]
    }
   ],
   "source": [
    "df[\"isFemale\"] = np.where(df[\"sex\"]==\"Female\",1,0)\n",
    "df[\"isTorgersen\"] = np.where(df[\"island\"]==\"Torgersen\",1,0)\n",
    "df[\"isBiscoe\"] = np.where(df[\"island\"]==\"Biscoe\",1,0)\n",
    "df[\"isDream\"] = np.where(df[\"island\"]==\"Dream\",1,0)\n",
    "\n",
    "X =  df[[ \"bill_length_mm\",\"bill_depth_mm\",\"flipper_length_mm\",\"body_mass_g\",\"isFemale\",\"isTorgersen\",\"isBiscoe\",\"isDream\"]].values \n",
    "\n",
    "X[0:,0] = X[0:,0]/10\n",
    "X[0:,1] = X[0:,1]/10\n",
    "X[0:,2] = X[0:,2]/100\n",
    "X[0:,3] = X[0:,3]/1000\n",
    "np.shape(X[0])\n",
    "\n",
    "flat_train_X = []\n",
    "for x in X:   \n",
    "    flat_train_X.append(x.flatten().reshape(8, 1))\n",
    "    \n",
    "print(np.shape(flat_train_X))"
   ]
  },
  {
   "cell_type": "markdown",
   "metadata": {},
   "source": [
    "## Train/Test Split"
   ]
  },
  {
   "cell_type": "code",
   "execution_count": 132,
   "metadata": {},
   "outputs": [],
   "source": [
    "#convert qualitative data to quantitative data\n",
    "# 1. convert sex to isFemale\n",
    "# 2. convert island to isTorgerson, isDream, isBiscoe boolean variables\n",
    "# 3. convert species 3 valued column vector where adelie, gentoo, chinstrap [1,0,0] for adelie, [0,1,0] for chinstrap etc.\n",
    "\n",
    "X_train, X_test, y_train, y_test = train_test_split (X, y_total, test_size= 0.3, random_state =42)"
   ]
  },
  {
   "cell_type": "markdown",
   "metadata": {},
   "source": [
    "## Initializing a Mutli Layer Perceptron"
   ]
  },
  {
   "cell_type": "code",
   "execution_count": 133,
   "metadata": {},
   "outputs": [
    {
     "name": "stdout",
     "output_type": "stream",
     "text": [
      "TensorFlow version: 2.8.0\n"
     ]
    }
   ],
   "source": [
    "import tensorflow as tf\n",
    "print(\"TensorFlow version:\", tf.__version__)"
   ]
  },
  {
   "cell_type": "code",
   "execution_count": 134,
   "metadata": {},
   "outputs": [],
   "source": [
    "model = tf.keras.models.Sequential([\n",
    "  tf.keras.layers.Flatten(input_shape=(8,)),\n",
    "  tf.keras.layers.Dense(128, activation='relu'),\n",
    "  tf.keras.layers.Dropout(0.2),\n",
    "  tf.keras.layers.Dense(3)\n",
    "])"
   ]
  },
  {
   "cell_type": "code",
   "execution_count": 139,
   "metadata": {},
   "outputs": [
    {
     "name": "stdout",
     "output_type": "stream",
     "text": [
      "Epoch 1/25\n",
      "8/8 [==============================] - 1s 2ms/step - loss: 0.3418 - accuracy: 0.9013\n",
      "Epoch 2/25\n",
      "8/8 [==============================] - 0s 2ms/step - loss: 0.3404 - accuracy: 0.8627\n",
      "Epoch 3/25\n",
      "8/8 [==============================] - 0s 3ms/step - loss: 0.3268 - accuracy: 0.8927\n",
      "Epoch 4/25\n",
      "8/8 [==============================] - 0s 3ms/step - loss: 0.3171 - accuracy: 0.9227\n",
      "Epoch 5/25\n",
      "8/8 [==============================] - 0s 3ms/step - loss: 0.3031 - accuracy: 0.8884\n",
      "Epoch 6/25\n",
      "8/8 [==============================] - 0s 3ms/step - loss: 0.2935 - accuracy: 0.9313\n",
      "Epoch 7/25\n",
      "8/8 [==============================] - 0s 4ms/step - loss: 0.2848 - accuracy: 0.9313\n",
      "Epoch 8/25\n",
      "8/8 [==============================] - 0s 3ms/step - loss: 0.2597 - accuracy: 0.9399\n",
      "Epoch 9/25\n",
      "8/8 [==============================] - 0s 3ms/step - loss: 0.2775 - accuracy: 0.9227\n",
      "Epoch 10/25\n",
      "8/8 [==============================] - 0s 3ms/step - loss: 0.2678 - accuracy: 0.9270\n",
      "Epoch 11/25\n",
      "8/8 [==============================] - 0s 5ms/step - loss: 0.2497 - accuracy: 0.9528\n",
      "Epoch 12/25\n",
      "8/8 [==============================] - 0s 3ms/step - loss: 0.2617 - accuracy: 0.9399\n",
      "Epoch 13/25\n",
      "8/8 [==============================] - 0s 3ms/step - loss: 0.2444 - accuracy: 0.9442\n",
      "Epoch 14/25\n",
      "8/8 [==============================] - 0s 3ms/step - loss: 0.2640 - accuracy: 0.9399\n",
      "Epoch 15/25\n",
      "8/8 [==============================] - 0s 3ms/step - loss: 0.2281 - accuracy: 0.9528\n",
      "Epoch 16/25\n",
      "8/8 [==============================] - 0s 3ms/step - loss: 0.2341 - accuracy: 0.9657\n",
      "Epoch 17/25\n",
      "8/8 [==============================] - 0s 4ms/step - loss: 0.2312 - accuracy: 0.9700\n",
      "Epoch 18/25\n",
      "8/8 [==============================] - 0s 4ms/step - loss: 0.2036 - accuracy: 0.9657\n",
      "Epoch 19/25\n",
      "8/8 [==============================] - 0s 4ms/step - loss: 0.1969 - accuracy: 0.9742\n",
      "Epoch 20/25\n",
      "8/8 [==============================] - 0s 4ms/step - loss: 0.2102 - accuracy: 0.9528\n",
      "Epoch 21/25\n",
      "8/8 [==============================] - 0s 4ms/step - loss: 0.1968 - accuracy: 0.9485\n",
      "Epoch 22/25\n",
      "8/8 [==============================] - 0s 5ms/step - loss: 0.2137 - accuracy: 0.9571\n",
      "Epoch 23/25\n",
      "8/8 [==============================] - 0s 4ms/step - loss: 0.1885 - accuracy: 0.9657\n",
      "Epoch 24/25\n",
      "8/8 [==============================] - 0s 3ms/step - loss: 0.1916 - accuracy: 0.9657\n",
      "Epoch 25/25\n",
      "8/8 [==============================] - 0s 3ms/step - loss: 0.1928 - accuracy: 0.9614\n"
     ]
    },
    {
     "data": {
      "text/plain": [
       "<keras.callbacks.History at 0x7ff2d355ba30>"
      ]
     },
     "execution_count": 139,
     "metadata": {},
     "output_type": "execute_result"
    }
   ],
   "source": [
    "loss_fn = tf.keras.losses.SparseCategoricalCrossentropy(from_logits=True)\n",
    "model.compile(optimizer='adam',\n",
    "              loss=loss_fn,\n",
    "              metrics=['accuracy'])\n",
    "model.fit(X_train, y_train, epochs=25)"
   ]
  },
  {
   "cell_type": "code",
   "execution_count": 140,
   "metadata": {},
   "outputs": [
    {
     "name": "stdout",
     "output_type": "stream",
     "text": [
      "4/4 [==============================] - 0s 2ms/step - loss: 0.1410 - accuracy: 0.9900\n"
     ]
    },
    {
     "data": {
      "text/plain": [
       "[0.14104168117046356, 0.9900000095367432]"
      ]
     },
     "execution_count": 140,
     "metadata": {},
     "output_type": "execute_result"
    }
   ],
   "source": [
    "model.evaluate(X_test, y_test, verbose=1)"
   ]
  },
  {
   "cell_type": "code",
   "execution_count": null,
   "metadata": {},
   "outputs": [],
   "source": []
  },
  {
   "cell_type": "code",
   "execution_count": null,
   "metadata": {},
   "outputs": [],
   "source": []
  }
 ],
 "metadata": {
  "kernelspec": {
   "display_name": "Python 3",
   "language": "python",
   "name": "python3"
  },
  "language_info": {
   "codemirror_mode": {
    "name": "ipython",
    "version": 3
   },
   "file_extension": ".py",
   "mimetype": "text/x-python",
   "name": "python",
   "nbconvert_exporter": "python",
   "pygments_lexer": "ipython3",
   "version": "3.8.3"
  }
 },
 "nbformat": 4,
 "nbformat_minor": 4
}
